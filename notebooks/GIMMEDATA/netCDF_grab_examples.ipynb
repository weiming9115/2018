{
 "cells": [
  {
   "cell_type": "markdown",
   "metadata": {},
   "source": [
    "<a name=\"top\"></a>\n",
    "<div style=\"width:1000 px\">\n",
    "\n",
    "<div style=\"float:right; width:98 px; height:98px;\">\n",
    "<img src=\"https://cdn.miami.edu/_assets-common/images/system/um-logo-gray-bg.png\" alt=\"Miami Logo\" style=\"height: 98px;\">\n",
    "</div>\n",
    "\n",
    "<h1>MPO 624: NetCDF data grabbing strategies</h1>\n",
    "\n",
    "<div style=\"clear:both\"></div>\n",
    "</div>\n",
    "\n",
    "<hr style=\"height:2px;\">\n",
    "\n",
    "### Links to subsections\n",
    "1. <a href=\"#xarray\">xarray</a>\n",
    "1. <a href=\"#netcdf4\">netCDF4</a>\n",
    "1. <a href=\"#opendap\">OpenDAP: from a URL not a file</a>\n",
    "1. <a href=\"#graball\">either way, grab all variables</a>\n",
    "1. <a href=\"#whos\">see all variables in memory</a>\n"
   ]
  },
  {
   "cell_type": "markdown",
   "metadata": {},
   "source": [
    "<a name=\"xarray\"></a>\n",
    "### Use xarray to import dataset"
   ]
  },
  {
   "cell_type": "code",
   "execution_count": 16,
   "metadata": {},
   "outputs": [
    {
     "data": {
      "text/plain": [
       "<xarray.Dataset>\n",
       "Dimensions:    (lat: 180, lon: 360, nbnds: 2, time: 435)\n",
       "Coordinates:\n",
       "  * lat        (lat) float32 89.5 88.5 87.5 86.5 85.5 84.5 83.5 82.5 81.5 ...\n",
       "  * lon        (lon) float32 0.5 1.5 2.5 3.5 4.5 5.5 6.5 7.5 8.5 9.5 10.5 ...\n",
       "  * time       (time) datetime64[ns] 1981-12-01 1982-01-01 1982-02-01 ...\n",
       "Dimensions without coordinates: nbnds\n",
       "Data variables:\n",
       "    time_bnds  (time, nbnds) float64 ...\n",
       "    sst        (time, lat, lon) float32 ...\n",
       "Attributes:\n",
       "    title:                           NOAA Optimum Interpolation (OI) SST V2\n",
       "    Conventions:                     CF-1.0\n",
       "    history:                         Wed Apr  6 13:47:45 2005: ncks -d time,0...\n",
       "    comments:                        Data described in  Reynolds, R.W., N.A. ...\n",
       "    platform:                        Model\n",
       "    source:                          NCEP Climate Modeling Branch\n",
       "    institution:                     National Centers for Environmental Predi...\n",
       "    References:                      https://www.esrl.noaa.gov/psd/data/gridd...\n",
       "    dataset_title:                   NOAA Optimum Interpolation (OI) SST V2\n",
       "    source_url:                      http://www.emc.ncep.noaa.gov/research/cm...\n",
       "    DODS_EXTRA.Unlimited_Dimension:  time"
      ]
     },
     "execution_count": 16,
     "metadata": {},
     "output_type": "execute_result"
    }
   ],
   "source": [
    "import xarray as xr \n",
    "\n",
    "datafile = xr.open_dataset('../Eq_timelon_sections.nc', decode_times=False)\n",
    "# Works for a URL too\n",
    "#datafile = xr.open_dataset('https://www.esrl.noaa.gov/psd/thredds/dodsC/Datasets/noaa.oisst.v2/sst.mnmean.nc')\n",
    "\n",
    "datafile"
   ]
  },
  {
   "cell_type": "markdown",
   "metadata": {},
   "source": [
    "<a name=\"netcdf4\"></a>\n",
    "### Use netCDF4 to import dataset"
   ]
  },
  {
   "cell_type": "code",
   "execution_count": 12,
   "metadata": {
    "collapsed": true
   },
   "outputs": [
    {
     "data": {
      "text/plain": [
       "<class 'netCDF4._netCDF4.Dataset'>\n",
       "root group (NETCDF3_CLASSIC data model, file format NETCDF3):\n",
       "    dimensions(sizes): lon(144), time(240)\n",
       "    variables(dimensions): float32 \u001b[4mlon\u001b[0m(lon), float32 \u001b[4mtime\u001b[0m(time), float32 \u001b[4molr\u001b[0m(time,lon), float32 \u001b[4mprecip\u001b[0m(time,lon), float32 \u001b[4mslp\u001b[0m(time,lon), float32 \u001b[4msst\u001b[0m(time,lon), float32 \u001b[4muwnd\u001b[0m(time,lon)\n",
       "    groups: "
      ]
     },
     "execution_count": 12,
     "metadata": {},
     "output_type": "execute_result"
    }
   ],
   "source": [
    "from netCDF4 import Dataset\n",
    "datafile = Dataset('../Eq_timelon_sections.nc')\n",
    "datafile"
   ]
  },
  {
   "cell_type": "markdown",
   "metadata": {},
   "source": [
    "<a name=\"opendap\"></a>\n",
    "### From a URL instead of a local file (OpenDAP)"
   ]
  },
  {
   "cell_type": "code",
   "execution_count": 17,
   "metadata": {},
   "outputs": [
    {
     "data": {
      "text/plain": [
       "<xarray.Dataset>\n",
       "Dimensions:    (lat: 180, lon: 360, nbnds: 2, time: 435)\n",
       "Coordinates:\n",
       "  * lat        (lat) float32 89.5 88.5 87.5 86.5 85.5 84.5 83.5 82.5 81.5 ...\n",
       "  * lon        (lon) float32 0.5 1.5 2.5 3.5 4.5 5.5 6.5 7.5 8.5 9.5 10.5 ...\n",
       "  * time       (time) datetime64[ns] 1981-12-01 1982-01-01 1982-02-01 ...\n",
       "Dimensions without coordinates: nbnds\n",
       "Data variables:\n",
       "    time_bnds  (time, nbnds) float64 ...\n",
       "    sst        (time, lat, lon) float32 ...\n",
       "Attributes:\n",
       "    title:                           NOAA Optimum Interpolation (OI) SST V2\n",
       "    Conventions:                     CF-1.0\n",
       "    history:                         Wed Apr  6 13:47:45 2005: ncks -d time,0...\n",
       "    comments:                        Data described in  Reynolds, R.W., N.A. ...\n",
       "    platform:                        Model\n",
       "    source:                          NCEP Climate Modeling Branch\n",
       "    institution:                     National Centers for Environmental Predi...\n",
       "    References:                      https://www.esrl.noaa.gov/psd/data/gridd...\n",
       "    dataset_title:                   NOAA Optimum Interpolation (OI) SST V2\n",
       "    source_url:                      http://www.emc.ncep.noaa.gov/research/cm...\n",
       "    DODS_EXTRA.Unlimited_Dimension:  time"
      ]
     },
     "execution_count": 17,
     "metadata": {},
     "output_type": "execute_result"
    }
   ],
   "source": [
    "import xarray as xr \n",
    "datafile = xr.open_dataset('https://www.esrl.noaa.gov/psd/thredds/dodsC/Datasets/noaa.oisst.v2/sst.mnmean.nc')\n",
    "datafile"
   ]
  },
  {
   "cell_type": "markdown",
   "metadata": {},
   "source": [
    "<a name=\"graball\"></a>\n",
    "### Grab all variables from dataset"
   ]
  },
  {
   "cell_type": "code",
   "execution_count": 18,
   "metadata": {},
   "outputs": [
    {
     "name": "stdout",
     "output_type": "stream",
     "text": [
      "lat=datafile['lat'][:].squeeze()\n",
      "lon=datafile['lon'][:].squeeze()\n",
      "time=datafile['time'][:].squeeze()\n",
      "time_bnds=datafile['time_bnds'][:].squeeze()\n",
      "sst=datafile['sst'][:].squeeze()\n"
     ]
    }
   ],
   "source": [
    "# Trick: a loop over all keys, building a command string. \n",
    "# Then, execute that command string!\n",
    "\n",
    "for key in datafile.variables.keys(): \n",
    "    print( key +\"=datafile['\"+key+\"'][:].squeeze()\") # to show the command\n",
    "    exec( key +\"=datafile['\"+key+\"'][:].squeeze()\")"
   ]
  },
  {
   "cell_type": "markdown",
   "metadata": {},
   "source": [
    "<a name=\"whos\"></a>\n",
    "### See all variables in memory"
   ]
  },
  {
   "cell_type": "code",
   "execution_count": 19,
   "metadata": {},
   "outputs": [
    {
     "name": "stdout",
     "output_type": "stream",
     "text": [
      "Variable    Type         Data/Info\n",
      "----------------------------------\n",
      "Dataset     type         <class 'netCDF4._netCDF4.Dataset'>\n",
      "datafile    Dataset      <xarray.Dataset>\\nDimensi<...>nlimited_Dimension:  time\n",
      "key         str          sst\n",
      "lat         DataArray    <xarray.DataArray 'lat' (<...>ordinate_defines:  center\n",
      "lon         DataArray    <xarray.DataArray 'lon' (<...>ordinate_defines:  center\n",
      "olr         ndarray      240x144: 34560 elems, type `float32`, 138240 bytes (135.0 kb)\n",
      "precip      ndarray      240x144: 34560 elems, type `float32`, 138240 bytes (135.0 kb)\n",
      "slp         ndarray      240x144: 34560 elems, type `float32`, 138240 bytes (135.0 kb)\n",
      "sst         DataArray    <xarray.DataArray 'sst' (<...>ge:           [-500 4000]\n",
      "time        DataArray    <xarray.DataArray 'time' <...>unds:           time_bnds\n",
      "time_bnds   DataArray    <xarray.DataArray 'time_b<...>ng_name:  Time Boundaries\n",
      "uwnd        ndarray      240x144: 34560 elems, type `float32`, 138240 bytes (135.0 kb)\n",
      "xr          module       <module 'xarray' from '//<...>ages/xarray/__init__.py'>\n"
     ]
    }
   ],
   "source": [
    "whos"
   ]
  },
  {
   "cell_type": "code",
   "execution_count": null,
   "metadata": {},
   "outputs": [],
   "source": []
  }
 ],
 "metadata": {
  "kernelspec": {
   "display_name": "Python 3",
   "language": "python",
   "name": "python3"
  },
  "language_info": {
   "codemirror_mode": {
    "name": "ipython",
    "version": 3
   },
   "file_extension": ".py",
   "mimetype": "text/x-python",
   "name": "python",
   "nbconvert_exporter": "python",
   "pygments_lexer": "ipython3",
   "version": "3.6.4"
  }
 },
 "nbformat": 4,
 "nbformat_minor": 2
}
