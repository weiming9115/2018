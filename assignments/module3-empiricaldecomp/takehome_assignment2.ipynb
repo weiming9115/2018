{
 "cells": [
  {
   "cell_type": "markdown",
   "metadata": {},
   "source": [
    "<a name=\"top\"></a>\n",
    "<div style=\"width:1000 px\">\n",
    "\n",
    "<div style=\"float:right; width:98 px; height:98px;\">\n",
    "<img src=\"https://cdn.miami.edu/_assets-common/images/system/um-logo-gray-bg.png\" alt=\"Miami Logo\" style=\"height: 98px;\">\n",
    "</div>\n",
    "\n",
    "<h2>MPO 624: Assignment for Maximum Covariance Analysis </h2>\n",
    "<h3> MCA, SVD, and eigenvector-eigenvalue diagonalization </h3>\n",
    "\n",
    "<div style=\"clear:both\"></div>\n",
    "</div>\n",
    "\n",
    "<hr style=\"height:2px;\">\n",
    "\n",
    "### Author: Wei-Ming Tsai\n",
    "### Date: 04/24/2018\n"
   ]
  },
  {
   "cell_type": "markdown",
   "metadata": {},
   "source": [
    "### 1.2 (a) decompose and reconstruct [2x3] matrix by SVD"
   ]
  },
  {
   "cell_type": "code",
   "execution_count": 47,
   "metadata": {},
   "outputs": [],
   "source": [
    "import numpy as np\n",
    "from netCDF4 import Dataset"
   ]
  },
  {
   "cell_type": "code",
   "execution_count": 48,
   "metadata": {},
   "outputs": [
    {
     "name": "stdout",
     "output_type": "stream",
     "text": [
      "original matrix= \n",
      " [[2 3]\n",
      " [3 4]\n",
      " [5 2]]\n"
     ]
    }
   ],
   "source": [
    "a=np.array([[2,3],[3,4],[5,2]]); # original matrix\n",
    "print('original matrix= \\n',a)"
   ]
  },
  {
   "cell_type": "code",
   "execution_count": 49,
   "metadata": {},
   "outputs": [
    {
     "name": "stdout",
     "output_type": "stream",
     "text": [
      "u= [[-0.44094186 -0.43499204 -0.78508102]\n",
      " [-0.62018087 -0.48463651  0.61684937]\n",
      " [-0.64880349  0.75888693 -0.05607722]]\n",
      "\n",
      "vt= [[-0.76114325 -0.64858381]\n",
      " [ 0.64858381 -0.76114325]]\n",
      "\n",
      "s= [7.86506846 2.26731078]\n"
     ]
    }
   ],
   "source": [
    "u,s,vt = np.linalg.svd(a);\n",
    "print('u=',u);print('')\n",
    "print('vt=',vt);print('')\n",
    "print('s=',s)"
   ]
  },
  {
   "cell_type": "code",
   "execution_count": 50,
   "metadata": {},
   "outputs": [
    {
     "name": "stdout",
     "output_type": "stream",
     "text": [
      "reconstructed matrix= \n",
      " [[2. 3.]\n",
      " [3. 4.]\n",
      " [5. 2.]]\n"
     ]
    }
   ],
   "source": [
    "smat=np.zeros([3,2])\n",
    "smat[0:2,0:2]=np.diag(s)\n",
    "b=np.matmul(u,np.matmul(smat,vt)) # reconstruct \n",
    "print('reconstructed matrix= \\n',b)"
   ]
  },
  {
   "cell_type": "markdown",
   "metadata": {},
   "source": [
    "### 1.2 (b) 2x2 and 3x3 convariance matrices"
   ]
  },
  {
   "cell_type": "markdown",
   "metadata": {},
   "source": [
    "#### 1. [2 x 2] convariance matrix reconstruction by eigen method and SVD"
   ]
  },
  {
   "cell_type": "code",
   "execution_count": 51,
   "metadata": {},
   "outputs": [
    {
     "name": "stdout",
     "output_type": "stream",
     "text": [
      "cov by cov function = \n",
      " [[ 2.  -3. ]\n",
      " [-3.   4.5]]\n",
      "\n",
      "cov by DDT = \n",
      " [[ 2.  -3. ]\n",
      " [-3.   4.5]]\n",
      "\n",
      "SVD reconstruction = \n",
      " [[ 2.  -3. ]\n",
      " [-3.   4.5]]\n"
     ]
    }
   ],
   "source": [
    "a=np.array([[3,1],[1,4]])\n",
    "cov1=np.cov(a)\n",
    "print('cov by cov function = \\n',cov1);print('')\n",
    "\n",
    "am=np.mean(a,1)\n",
    "ap=a-np.array([[am[0]],[am[1]]]) # variance\n",
    "print('cov by DDT = \\n',np.matmul(ap,transpose_matrix(ap)));print('')\n",
    "\n",
    "u,s,vt=np.linalg.svd(ap)\n",
    "smat=np.zeros([2,2])\n",
    "smat[0:2,0:2]=np.diag(s)\n",
    "tmp=np.matmul(u,smat);tmp2=np.matmul(transpose_matrix(smat),transpose_matrix(u)); # U S ST UT\n",
    "re=np.matmul(tmp,tmp2)\n",
    "print('SVD reconstruction = \\n',re)"
   ]
  },
  {
   "cell_type": "markdown",
   "metadata": {},
   "source": [
    "#### 2. [3x3]  convariance matrix reconstruction by eigen method and SVD"
   ]
  },
  {
   "cell_type": "code",
   "execution_count": 52,
   "metadata": {},
   "outputs": [
    {
     "name": "stdout",
     "output_type": "stream",
     "text": [
      "cov matrix = \n",
      " [[ 4.          2.         -1.        ]\n",
      " [ 2.          2.33333333  0.5       ]\n",
      " [-1.          0.5         1.        ]]\n",
      "\n",
      "cov by DDT = \n",
      " [[ 8.          4.         -2.        ]\n",
      " [ 4.          4.66666667  1.        ]\n",
      " [-2.          1.          2.        ]]\n",
      "\n",
      "SVD reconstruction = \n",
      " [[ 8.          4.         -2.        ]\n",
      " [ 4.          4.66666667  1.        ]\n",
      " [-2.          1.          2.        ]]\n"
     ]
    }
   ],
   "source": [
    "a=np.array([[3,1,5],[1,2,4],[2,4,3]])\n",
    "cov1=np.cov(a) # convariance matrix\n",
    "print('cov matrix = \\n',cov1);print('')\n",
    "am=np.mean(a,1)\n",
    "ap=a-np.array([[am[0]],[am[1]],[am[2]]])\n",
    "print('cov by DDT = \\n',np.matmul(ap,transpose_matrix(ap)));print('')\n",
    "\n",
    "u,s,vt=np.linalg.svd(ap)\n",
    "smat=np.zeros([3,3])\n",
    "smat[0:3,0:3]=np.diag(s)\n",
    "tmp=np.matmul(u,smat);tmp2=np.matmul(np.transpose(smat),np.transpose(u)); # U S ST UT\n",
    "re=np.matmul(tmp,tmp2)\n",
    "print('SVD reconstruction = \\n',re)"
   ]
  },
  {
   "cell_type": "code",
   "execution_count": 53,
   "metadata": {},
   "outputs": [
    {
     "name": "stdout",
     "output_type": "stream",
     "text": [
      "cov_re = \n",
      " [[ 4.          2.         -1.        ]\n",
      " [ 2.          2.33333333  0.5       ]\n",
      " [-1.          0.5         1.        ]]\n"
     ]
    }
   ],
   "source": [
    "v,e=np.linalg.eig(cov1); # eigenvalue, eigenvector\n",
    "cov_re=np.matmul(np.matmul(e,np.diag(v)),np.linalg.inv(e))\n",
    "print('cov_re = \\n',cov_re)"
   ]
  },
  {
   "cell_type": "markdown",
   "metadata": {},
   "source": [
    "#### Now try DD$^{T}$ instead of covariance"
   ]
  },
  {
   "cell_type": "code",
   "execution_count": 54,
   "metadata": {},
   "outputs": [
    {
     "name": "stdout",
     "output_type": "stream",
     "text": [
      "DDT = \n",
      " [[ 8.          4.         -2.        ]\n",
      " [ 4.          4.66666667  1.        ]\n",
      " [-2.          1.          2.        ]]\n",
      "\n",
      "cov_re = \n",
      " [[ 8.          4.         -2.        ]\n",
      " [ 4.          4.66666667  1.        ]\n",
      " [-2.          1.          2.        ]]\n"
     ]
    }
   ],
   "source": [
    "v,e=np.linalg.eig(np.matmul(ap,np.transpose(ap))); # eigenvalue, eigenvector\n",
    "cov_re=np.matmul(np.matmul(e,np.diag(v)),np.linalg.inv(e))\n",
    "print('DDT = \\n',np.matmul(ap,np.transpose(ap)));print('')\n",
    "print('cov_re = \\n',cov_re)"
   ]
  },
  {
   "cell_type": "markdown",
   "metadata": {},
   "source": [
    "#### Summary\n",
    "The SVD decomposition returns 3 matrices, while the eigen method returns two instead.\n",
    "\n",
    "The SVD decomposition is available for non-squared matrices, while the eigen method works only if the operated matrix is squared (because the eigenvalue matrix must be diagonal). \n",
    "\n",
    "For a 2 by 2 matrix, covariance matrices constructed by COV, DDT and SVD are the same, but this result is not shown given a 3 by 3 matrix. For a 3 by 3 case, elements in covaraince matrix by DDT and SVD become double ,comparing to the correct one. That is because DDT should be divided by N-1 to form a real convairance matrix. \n",
    "\n",
    "If we put DD$^T$ in the eigen method, the original matrix DD$^T$ can be reconstructed by eigenvalue and eigenvector matrices (eve^-1)."
   ]
  }
 ],
 "metadata": {
  "kernelspec": {
   "display_name": "Python 3",
   "language": "python",
   "name": "python3"
  },
  "language_info": {
   "codemirror_mode": {
    "name": "ipython",
    "version": 3
   },
   "file_extension": ".py",
   "mimetype": "text/x-python",
   "name": "python",
   "nbconvert_exporter": "python",
   "pygments_lexer": "ipython3",
   "version": "3.6.4"
  }
 },
 "nbformat": 4,
 "nbformat_minor": 2
}
